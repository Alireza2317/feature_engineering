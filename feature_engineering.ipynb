{
 "cells": [
  {
   "cell_type": "markdown",
   "metadata": {},
   "source": [
    "# Feature Engineering Techniques"
   ]
  },
  {
   "cell_type": "markdown",
   "metadata": {},
   "source": [
    "Shoutout to Greg Hogg for his great video on youtube\n",
    "\n",
    "https://www.youtube.com/watch?v=GduT2ZCc26E&t=40s\n"
   ]
  },
  {
   "cell_type": "markdown",
   "metadata": {},
   "source": [
    "## Downloading the dataset"
   ]
  },
  {
   "cell_type": "code",
   "execution_count": 30,
   "metadata": {},
   "outputs": [],
   "source": [
    "# download the dataset either using your kaggle API\n",
    "#!kaggle datasets download -d camnugent/california-housing-prices\n",
    "#!unzip california-housing-prices.zip\n",
    "\n",
    "# OR manually from this link\n",
    "# https://www.kaggle.com/datasets/camnugent/california-housing-prices\n"
   ]
  },
  {
   "cell_type": "code",
   "execution_count": 31,
   "metadata": {},
   "outputs": [],
   "source": [
    "import pandas as pd\n",
    "import numpy as np\n",
    "import matplotlib.pyplot as plt\n"
   ]
  },
  {
   "cell_type": "code",
   "execution_count": 32,
   "metadata": {},
   "outputs": [
    {
     "data": {
      "text/html": [
       "<div>\n",
       "<style scoped>\n",
       "    .dataframe tbody tr th:only-of-type {\n",
       "        vertical-align: middle;\n",
       "    }\n",
       "\n",
       "    .dataframe tbody tr th {\n",
       "        vertical-align: top;\n",
       "    }\n",
       "\n",
       "    .dataframe thead th {\n",
       "        text-align: right;\n",
       "    }\n",
       "</style>\n",
       "<table border=\"1\" class=\"dataframe\">\n",
       "  <thead>\n",
       "    <tr style=\"text-align: right;\">\n",
       "      <th></th>\n",
       "      <th>longitude</th>\n",
       "      <th>latitude</th>\n",
       "      <th>housing_median_age</th>\n",
       "      <th>total_rooms</th>\n",
       "      <th>total_bedrooms</th>\n",
       "      <th>population</th>\n",
       "      <th>households</th>\n",
       "      <th>median_income</th>\n",
       "      <th>median_house_value</th>\n",
       "      <th>ocean_proximity</th>\n",
       "    </tr>\n",
       "  </thead>\n",
       "  <tbody>\n",
       "    <tr>\n",
       "      <th>0</th>\n",
       "      <td>-122.23</td>\n",
       "      <td>37.88</td>\n",
       "      <td>41.0</td>\n",
       "      <td>880.0</td>\n",
       "      <td>129.0</td>\n",
       "      <td>322.0</td>\n",
       "      <td>126.0</td>\n",
       "      <td>8.3252</td>\n",
       "      <td>452600.0</td>\n",
       "      <td>NEAR BAY</td>\n",
       "    </tr>\n",
       "    <tr>\n",
       "      <th>1</th>\n",
       "      <td>-122.22</td>\n",
       "      <td>37.86</td>\n",
       "      <td>21.0</td>\n",
       "      <td>7099.0</td>\n",
       "      <td>1106.0</td>\n",
       "      <td>2401.0</td>\n",
       "      <td>1138.0</td>\n",
       "      <td>8.3014</td>\n",
       "      <td>358500.0</td>\n",
       "      <td>NEAR BAY</td>\n",
       "    </tr>\n",
       "    <tr>\n",
       "      <th>2</th>\n",
       "      <td>-122.24</td>\n",
       "      <td>37.85</td>\n",
       "      <td>52.0</td>\n",
       "      <td>1467.0</td>\n",
       "      <td>190.0</td>\n",
       "      <td>496.0</td>\n",
       "      <td>177.0</td>\n",
       "      <td>7.2574</td>\n",
       "      <td>352100.0</td>\n",
       "      <td>NEAR BAY</td>\n",
       "    </tr>\n",
       "    <tr>\n",
       "      <th>3</th>\n",
       "      <td>-122.25</td>\n",
       "      <td>37.85</td>\n",
       "      <td>52.0</td>\n",
       "      <td>1274.0</td>\n",
       "      <td>235.0</td>\n",
       "      <td>558.0</td>\n",
       "      <td>219.0</td>\n",
       "      <td>5.6431</td>\n",
       "      <td>341300.0</td>\n",
       "      <td>NEAR BAY</td>\n",
       "    </tr>\n",
       "    <tr>\n",
       "      <th>4</th>\n",
       "      <td>-122.25</td>\n",
       "      <td>37.85</td>\n",
       "      <td>52.0</td>\n",
       "      <td>1627.0</td>\n",
       "      <td>280.0</td>\n",
       "      <td>565.0</td>\n",
       "      <td>259.0</td>\n",
       "      <td>3.8462</td>\n",
       "      <td>342200.0</td>\n",
       "      <td>NEAR BAY</td>\n",
       "    </tr>\n",
       "    <tr>\n",
       "      <th>...</th>\n",
       "      <td>...</td>\n",
       "      <td>...</td>\n",
       "      <td>...</td>\n",
       "      <td>...</td>\n",
       "      <td>...</td>\n",
       "      <td>...</td>\n",
       "      <td>...</td>\n",
       "      <td>...</td>\n",
       "      <td>...</td>\n",
       "      <td>...</td>\n",
       "    </tr>\n",
       "    <tr>\n",
       "      <th>20635</th>\n",
       "      <td>-121.09</td>\n",
       "      <td>39.48</td>\n",
       "      <td>25.0</td>\n",
       "      <td>1665.0</td>\n",
       "      <td>374.0</td>\n",
       "      <td>845.0</td>\n",
       "      <td>330.0</td>\n",
       "      <td>1.5603</td>\n",
       "      <td>78100.0</td>\n",
       "      <td>INLAND</td>\n",
       "    </tr>\n",
       "    <tr>\n",
       "      <th>20636</th>\n",
       "      <td>-121.21</td>\n",
       "      <td>39.49</td>\n",
       "      <td>18.0</td>\n",
       "      <td>697.0</td>\n",
       "      <td>150.0</td>\n",
       "      <td>356.0</td>\n",
       "      <td>114.0</td>\n",
       "      <td>2.5568</td>\n",
       "      <td>77100.0</td>\n",
       "      <td>INLAND</td>\n",
       "    </tr>\n",
       "    <tr>\n",
       "      <th>20637</th>\n",
       "      <td>-121.22</td>\n",
       "      <td>39.43</td>\n",
       "      <td>17.0</td>\n",
       "      <td>2254.0</td>\n",
       "      <td>485.0</td>\n",
       "      <td>1007.0</td>\n",
       "      <td>433.0</td>\n",
       "      <td>1.7000</td>\n",
       "      <td>92300.0</td>\n",
       "      <td>INLAND</td>\n",
       "    </tr>\n",
       "    <tr>\n",
       "      <th>20638</th>\n",
       "      <td>-121.32</td>\n",
       "      <td>39.43</td>\n",
       "      <td>18.0</td>\n",
       "      <td>1860.0</td>\n",
       "      <td>409.0</td>\n",
       "      <td>741.0</td>\n",
       "      <td>349.0</td>\n",
       "      <td>1.8672</td>\n",
       "      <td>84700.0</td>\n",
       "      <td>INLAND</td>\n",
       "    </tr>\n",
       "    <tr>\n",
       "      <th>20639</th>\n",
       "      <td>-121.24</td>\n",
       "      <td>39.37</td>\n",
       "      <td>16.0</td>\n",
       "      <td>2785.0</td>\n",
       "      <td>616.0</td>\n",
       "      <td>1387.0</td>\n",
       "      <td>530.0</td>\n",
       "      <td>2.3886</td>\n",
       "      <td>89400.0</td>\n",
       "      <td>INLAND</td>\n",
       "    </tr>\n",
       "  </tbody>\n",
       "</table>\n",
       "<p>20433 rows × 10 columns</p>\n",
       "</div>"
      ],
      "text/plain": [
       "       longitude  latitude  housing_median_age  total_rooms  total_bedrooms  \\\n",
       "0        -122.23     37.88                41.0        880.0           129.0   \n",
       "1        -122.22     37.86                21.0       7099.0          1106.0   \n",
       "2        -122.24     37.85                52.0       1467.0           190.0   \n",
       "3        -122.25     37.85                52.0       1274.0           235.0   \n",
       "4        -122.25     37.85                52.0       1627.0           280.0   \n",
       "...          ...       ...                 ...          ...             ...   \n",
       "20635    -121.09     39.48                25.0       1665.0           374.0   \n",
       "20636    -121.21     39.49                18.0        697.0           150.0   \n",
       "20637    -121.22     39.43                17.0       2254.0           485.0   \n",
       "20638    -121.32     39.43                18.0       1860.0           409.0   \n",
       "20639    -121.24     39.37                16.0       2785.0           616.0   \n",
       "\n",
       "       population  households  median_income  median_house_value  \\\n",
       "0           322.0       126.0         8.3252            452600.0   \n",
       "1          2401.0      1138.0         8.3014            358500.0   \n",
       "2           496.0       177.0         7.2574            352100.0   \n",
       "3           558.0       219.0         5.6431            341300.0   \n",
       "4           565.0       259.0         3.8462            342200.0   \n",
       "...           ...         ...            ...                 ...   \n",
       "20635       845.0       330.0         1.5603             78100.0   \n",
       "20636       356.0       114.0         2.5568             77100.0   \n",
       "20637      1007.0       433.0         1.7000             92300.0   \n",
       "20638       741.0       349.0         1.8672             84700.0   \n",
       "20639      1387.0       530.0         2.3886             89400.0   \n",
       "\n",
       "      ocean_proximity  \n",
       "0            NEAR BAY  \n",
       "1            NEAR BAY  \n",
       "2            NEAR BAY  \n",
       "3            NEAR BAY  \n",
       "4            NEAR BAY  \n",
       "...               ...  \n",
       "20635          INLAND  \n",
       "20636          INLAND  \n",
       "20637          INLAND  \n",
       "20638          INLAND  \n",
       "20639          INLAND  \n",
       "\n",
       "[20433 rows x 10 columns]"
      ]
     },
     "execution_count": 32,
     "metadata": {},
     "output_type": "execute_result"
    }
   ],
   "source": [
    "df = pd.read_csv('housing.csv')\n",
    "\n",
    "# immediately drop null values\n",
    "df.dropna(inplace=True)\n",
    "\n",
    "df\n"
   ]
  },
  {
   "cell_type": "code",
   "execution_count": 33,
   "metadata": {},
   "outputs": [
    {
     "data": {
      "text/html": [
       "<div>\n",
       "<style scoped>\n",
       "    .dataframe tbody tr th:only-of-type {\n",
       "        vertical-align: middle;\n",
       "    }\n",
       "\n",
       "    .dataframe tbody tr th {\n",
       "        vertical-align: top;\n",
       "    }\n",
       "\n",
       "    .dataframe thead th {\n",
       "        text-align: right;\n",
       "    }\n",
       "</style>\n",
       "<table border=\"1\" class=\"dataframe\">\n",
       "  <thead>\n",
       "    <tr style=\"text-align: right;\">\n",
       "      <th></th>\n",
       "      <th>longitude</th>\n",
       "      <th>latitude</th>\n",
       "      <th>housing_median_age</th>\n",
       "      <th>total_rooms</th>\n",
       "      <th>total_bedrooms</th>\n",
       "      <th>population</th>\n",
       "      <th>households</th>\n",
       "      <th>median_income</th>\n",
       "      <th>median_house_value</th>\n",
       "      <th>ocean_proximity</th>\n",
       "    </tr>\n",
       "  </thead>\n",
       "  <tbody>\n",
       "    <tr>\n",
       "      <th>0</th>\n",
       "      <td>-119.89</td>\n",
       "      <td>36.73</td>\n",
       "      <td>43.0</td>\n",
       "      <td>524.0</td>\n",
       "      <td>93.0</td>\n",
       "      <td>302.0</td>\n",
       "      <td>93.0</td>\n",
       "      <td>2.6146</td>\n",
       "      <td>81300.0</td>\n",
       "      <td>INLAND</td>\n",
       "    </tr>\n",
       "    <tr>\n",
       "      <th>1</th>\n",
       "      <td>-117.25</td>\n",
       "      <td>34.13</td>\n",
       "      <td>37.0</td>\n",
       "      <td>2498.0</td>\n",
       "      <td>472.0</td>\n",
       "      <td>1291.0</td>\n",
       "      <td>487.0</td>\n",
       "      <td>3.0000</td>\n",
       "      <td>83400.0</td>\n",
       "      <td>INLAND</td>\n",
       "    </tr>\n",
       "    <tr>\n",
       "      <th>2</th>\n",
       "      <td>-117.10</td>\n",
       "      <td>32.68</td>\n",
       "      <td>49.0</td>\n",
       "      <td>1412.0</td>\n",
       "      <td>350.0</td>\n",
       "      <td>1200.0</td>\n",
       "      <td>332.0</td>\n",
       "      <td>2.0398</td>\n",
       "      <td>93600.0</td>\n",
       "      <td>NEAR OCEAN</td>\n",
       "    </tr>\n",
       "    <tr>\n",
       "      <th>3</th>\n",
       "      <td>-121.96</td>\n",
       "      <td>37.34</td>\n",
       "      <td>36.0</td>\n",
       "      <td>844.0</td>\n",
       "      <td>153.0</td>\n",
       "      <td>373.0</td>\n",
       "      <td>160.0</td>\n",
       "      <td>5.7910</td>\n",
       "      <td>254100.0</td>\n",
       "      <td>&lt;1H OCEAN</td>\n",
       "    </tr>\n",
       "    <tr>\n",
       "      <th>4</th>\n",
       "      <td>-121.24</td>\n",
       "      <td>36.34</td>\n",
       "      <td>33.0</td>\n",
       "      <td>1691.0</td>\n",
       "      <td>308.0</td>\n",
       "      <td>792.0</td>\n",
       "      <td>262.0</td>\n",
       "      <td>2.6648</td>\n",
       "      <td>164600.0</td>\n",
       "      <td>&lt;1H OCEAN</td>\n",
       "    </tr>\n",
       "    <tr>\n",
       "      <th>...</th>\n",
       "      <td>...</td>\n",
       "      <td>...</td>\n",
       "      <td>...</td>\n",
       "      <td>...</td>\n",
       "      <td>...</td>\n",
       "      <td>...</td>\n",
       "      <td>...</td>\n",
       "      <td>...</td>\n",
       "      <td>...</td>\n",
       "      <td>...</td>\n",
       "    </tr>\n",
       "    <tr>\n",
       "      <th>16341</th>\n",
       "      <td>-121.42</td>\n",
       "      <td>38.54</td>\n",
       "      <td>29.0</td>\n",
       "      <td>2358.0</td>\n",
       "      <td>493.0</td>\n",
       "      <td>1071.0</td>\n",
       "      <td>470.0</td>\n",
       "      <td>2.9250</td>\n",
       "      <td>94300.0</td>\n",
       "      <td>INLAND</td>\n",
       "    </tr>\n",
       "    <tr>\n",
       "      <th>16342</th>\n",
       "      <td>-117.73</td>\n",
       "      <td>34.05</td>\n",
       "      <td>36.0</td>\n",
       "      <td>975.0</td>\n",
       "      <td>243.0</td>\n",
       "      <td>809.0</td>\n",
       "      <td>233.0</td>\n",
       "      <td>2.8929</td>\n",
       "      <td>118100.0</td>\n",
       "      <td>INLAND</td>\n",
       "    </tr>\n",
       "    <tr>\n",
       "      <th>16343</th>\n",
       "      <td>-116.31</td>\n",
       "      <td>34.13</td>\n",
       "      <td>20.0</td>\n",
       "      <td>2352.0</td>\n",
       "      <td>556.0</td>\n",
       "      <td>1217.0</td>\n",
       "      <td>481.0</td>\n",
       "      <td>1.6063</td>\n",
       "      <td>55400.0</td>\n",
       "      <td>INLAND</td>\n",
       "    </tr>\n",
       "    <tr>\n",
       "      <th>16344</th>\n",
       "      <td>-119.80</td>\n",
       "      <td>36.75</td>\n",
       "      <td>41.0</td>\n",
       "      <td>1659.0</td>\n",
       "      <td>466.0</td>\n",
       "      <td>1391.0</td>\n",
       "      <td>447.0</td>\n",
       "      <td>1.3527</td>\n",
       "      <td>61200.0</td>\n",
       "      <td>INLAND</td>\n",
       "    </tr>\n",
       "    <tr>\n",
       "      <th>16345</th>\n",
       "      <td>-124.10</td>\n",
       "      <td>40.88</td>\n",
       "      <td>35.0</td>\n",
       "      <td>2987.0</td>\n",
       "      <td>578.0</td>\n",
       "      <td>1581.0</td>\n",
       "      <td>585.0</td>\n",
       "      <td>2.0657</td>\n",
       "      <td>81100.0</td>\n",
       "      <td>NEAR OCEAN</td>\n",
       "    </tr>\n",
       "  </tbody>\n",
       "</table>\n",
       "<p>16346 rows × 10 columns</p>\n",
       "</div>"
      ],
      "text/plain": [
       "       longitude  latitude  housing_median_age  total_rooms  total_bedrooms  \\\n",
       "0        -119.89     36.73                43.0        524.0            93.0   \n",
       "1        -117.25     34.13                37.0       2498.0           472.0   \n",
       "2        -117.10     32.68                49.0       1412.0           350.0   \n",
       "3        -121.96     37.34                36.0        844.0           153.0   \n",
       "4        -121.24     36.34                33.0       1691.0           308.0   \n",
       "...          ...       ...                 ...          ...             ...   \n",
       "16341    -121.42     38.54                29.0       2358.0           493.0   \n",
       "16342    -117.73     34.05                36.0        975.0           243.0   \n",
       "16343    -116.31     34.13                20.0       2352.0           556.0   \n",
       "16344    -119.80     36.75                41.0       1659.0           466.0   \n",
       "16345    -124.10     40.88                35.0       2987.0           578.0   \n",
       "\n",
       "       population  households  median_income  median_house_value  \\\n",
       "0           302.0        93.0         2.6146             81300.0   \n",
       "1          1291.0       487.0         3.0000             83400.0   \n",
       "2          1200.0       332.0         2.0398             93600.0   \n",
       "3           373.0       160.0         5.7910            254100.0   \n",
       "4           792.0       262.0         2.6648            164600.0   \n",
       "...           ...         ...            ...                 ...   \n",
       "16341      1071.0       470.0         2.9250             94300.0   \n",
       "16342       809.0       233.0         2.8929            118100.0   \n",
       "16343      1217.0       481.0         1.6063             55400.0   \n",
       "16344      1391.0       447.0         1.3527             61200.0   \n",
       "16345      1581.0       585.0         2.0657             81100.0   \n",
       "\n",
       "      ocean_proximity  \n",
       "0              INLAND  \n",
       "1              INLAND  \n",
       "2          NEAR OCEAN  \n",
       "3           <1H OCEAN  \n",
       "4           <1H OCEAN  \n",
       "...               ...  \n",
       "16341          INLAND  \n",
       "16342          INLAND  \n",
       "16343          INLAND  \n",
       "16344          INLAND  \n",
       "16345      NEAR OCEAN  \n",
       "\n",
       "[16346 rows x 10 columns]"
      ]
     },
     "execution_count": 33,
     "metadata": {},
     "output_type": "execute_result"
    }
   ],
   "source": [
    "# train test split the dataframe\n",
    "df = df.sample(frac=1, random_state=23)\n",
    "train_size = int(len(df) * 0.8)\n",
    "\n",
    "train_df = df[:train_size]\n",
    "\n",
    "test_df = df[train_size:]\n",
    "\n",
    "train_df.reset_index(drop=True, inplace=True)\n",
    "train_df\n"
   ]
  },
  {
   "cell_type": "code",
   "execution_count": 34,
   "metadata": {},
   "outputs": [
    {
     "data": {
      "text/plain": [
       "((16346,), (4087,))"
      ]
     },
     "execution_count": 34,
     "metadata": {},
     "output_type": "execute_result"
    }
   ],
   "source": [
    "y_train = train_df['median_house_value'].to_numpy()\n",
    "y_test = test_df['median_house_value'].to_numpy()\n",
    "\n",
    "y_train.shape, y_test.shape\n"
   ]
  },
  {
   "cell_type": "markdown",
   "metadata": {},
   "source": [
    "### Baseline MAE"
   ]
  },
  {
   "cell_type": "code",
   "execution_count": 35,
   "metadata": {},
   "outputs": [
    {
     "data": {
      "text/plain": [
       "91817.08456221559"
      ]
     },
     "execution_count": 35,
     "metadata": {},
     "output_type": "execute_result"
    }
   ],
   "source": [
    "from sklearn.metrics import mean_absolute_error\n",
    "\n",
    "# a baseline prediction using the average price for all samples\n",
    "avg_median_house_val = y_train.mean()\n",
    "baseline_predictions = np.full(y_test.shape, fill_value=avg_median_house_val)\n",
    "\n",
    "mean_absolute_error(baseline_predictions, y_test)\n"
   ]
  },
  {
   "cell_type": "markdown",
   "metadata": {},
   "source": [
    "### PCA (Linear Dimension Reduction)"
   ]
  },
  {
   "cell_type": "code",
   "execution_count": 36,
   "metadata": {},
   "outputs": [
    {
     "data": {
      "text/html": [
       "<div>\n",
       "<style scoped>\n",
       "    .dataframe tbody tr th:only-of-type {\n",
       "        vertical-align: middle;\n",
       "    }\n",
       "\n",
       "    .dataframe tbody tr th {\n",
       "        vertical-align: top;\n",
       "    }\n",
       "\n",
       "    .dataframe thead th {\n",
       "        text-align: right;\n",
       "    }\n",
       "</style>\n",
       "<table border=\"1\" class=\"dataframe\">\n",
       "  <thead>\n",
       "    <tr style=\"text-align: right;\">\n",
       "      <th></th>\n",
       "      <th>total_rooms</th>\n",
       "      <th>total_bedrooms</th>\n",
       "      <th>households</th>\n",
       "    </tr>\n",
       "  </thead>\n",
       "  <tbody>\n",
       "    <tr>\n",
       "      <th>total_rooms</th>\n",
       "      <td>1.000000</td>\n",
       "      <td>0.930416</td>\n",
       "      <td>0.919786</td>\n",
       "    </tr>\n",
       "    <tr>\n",
       "      <th>total_bedrooms</th>\n",
       "      <td>0.930416</td>\n",
       "      <td>1.000000</td>\n",
       "      <td>0.980438</td>\n",
       "    </tr>\n",
       "    <tr>\n",
       "      <th>households</th>\n",
       "      <td>0.919786</td>\n",
       "      <td>0.980438</td>\n",
       "      <td>1.000000</td>\n",
       "    </tr>\n",
       "  </tbody>\n",
       "</table>\n",
       "</div>"
      ],
      "text/plain": [
       "                total_rooms  total_bedrooms  households\n",
       "total_rooms        1.000000        0.930416    0.919786\n",
       "total_bedrooms     0.930416        1.000000    0.980438\n",
       "households         0.919786        0.980438    1.000000"
      ]
     },
     "execution_count": 36,
     "metadata": {},
     "output_type": "execute_result"
    }
   ],
   "source": [
    "train_df[['total_rooms', 'total_bedrooms', 'households']].corr()\n"
   ]
  },
  {
   "cell_type": "code",
   "execution_count": 37,
   "metadata": {},
   "outputs": [
    {
     "data": {
      "text/plain": [
       "((16346, 3), (4087, 3))"
      ]
     },
     "execution_count": 37,
     "metadata": {},
     "output_type": "execute_result"
    }
   ],
   "source": [
    "# test a model with these 3 features before applying PCA\n",
    "\n",
    "X_train_rooms = train_df[['total_rooms', 'total_bedrooms', 'households']].to_numpy()\n",
    "\n",
    "\n",
    "X_test_rooms = test_df[['total_rooms', 'total_bedrooms', 'households']].to_numpy()\n",
    "\n",
    "X_train_rooms.shape, X_test_rooms.shape\n"
   ]
  },
  {
   "cell_type": "code",
   "execution_count": 38,
   "metadata": {},
   "outputs": [
    {
     "data": {
      "text/plain": [
       "81319.92673541965"
      ]
     },
     "execution_count": 38,
     "metadata": {},
     "output_type": "execute_result"
    }
   ],
   "source": [
    "from sklearn.ensemble import RandomForestRegressor\n",
    "\n",
    "forest_basemodel = RandomForestRegressor(n_estimators=50, max_depth=5, n_jobs=-1)\n",
    "forest_basemodel.fit(X_train_rooms, y_train)\n",
    "\n",
    "\n",
    "forest_basemodel_preds = forest_basemodel.predict(X_test_rooms)\n",
    "\n",
    "# before PCA\n",
    "mean_absolute_error(forest_basemodel_preds, y_test)\n"
   ]
  },
  {
   "cell_type": "code",
   "execution_count": 39,
   "metadata": {},
   "outputs": [
    {
     "data": {
      "text/plain": [
       "((16346, 2), (4087, 2))"
      ]
     },
     "execution_count": 39,
     "metadata": {},
     "output_type": "execute_result"
    }
   ],
   "source": [
    "# now let's test again after pca\n",
    "from sklearn.decomposition import PCA\n",
    "\n",
    "# n_components is the number of output features\n",
    "# we will basically feed in 3 features and get 2 instead\n",
    "pca = PCA(n_components=2)\n",
    "\n",
    "pca.fit(X_train_rooms)\n",
    "\n",
    "X_train_pca = pca.transform(X_train_rooms)\n",
    "X_test_pca = pca.transform(X_test_rooms)\n",
    "\n",
    "X_train_pca.shape, X_test_pca.shape\n"
   ]
  },
  {
   "cell_type": "code",
   "execution_count": 40,
   "metadata": {},
   "outputs": [
    {
     "data": {
      "text/plain": [
       "79303.3123567731"
      ]
     },
     "execution_count": 40,
     "metadata": {},
     "output_type": "execute_result"
    }
   ],
   "source": [
    "# check the error after appling pca\n",
    "forest_pca = RandomForestRegressor(n_estimators=50, max_depth=5)\n",
    "forest_pca.fit(X_train_pca, y_train)\n",
    "\n",
    "forest_pca_preds = forest_pca.predict(X_test_pca)\n",
    "\n",
    "mean_absolute_error(forest_pca_preds, y_test)\n"
   ]
  },
  {
   "cell_type": "markdown",
   "metadata": {},
   "source": [
    "### Preprocessing and normalization\n",
    "\n",
    "#### 1. StandardScaler\n",
    "the StandardScaler somehow makes all the features equally important\n",
    "\n",
    "basically it calculates the mean of a column(feature) and the standard deviation of the column\n",
    "then for each element in the column, subtracts mean and then divides by std"
   ]
  },
  {
   "cell_type": "code",
   "execution_count": 62,
   "metadata": {},
   "outputs": [
    {
     "name": "stdout",
     "output_type": "stream",
     "text": [
      "[[ 524.   93.   93.]\n",
      " [2498.  472.  487.]\n",
      " [1412.  350.  332.]\n",
      " ...\n",
      " [2352.  556.  481.]\n",
      " [1659.  466.  447.]\n",
      " [2987.  578.  585.]]\n",
      "\n",
      "[[-0.9651012  -1.05099499 -1.05626235]\n",
      " [-0.06044737 -0.15274427 -0.02934337]\n",
      " [-0.55814446 -0.44189094 -0.43333434]\n",
      " ...\n",
      " [-0.12735692  0.04634032 -0.04498173]\n",
      " [-0.44494816 -0.1669646  -0.13359911]\n",
      " [ 0.16365381  0.09848153  0.22608318]]\n"
     ]
    },
    {
     "data": {
      "image/png": "[encoded data removed]",
      "text/plain": [
       "<Figure size 640x480 with 1 Axes>"
      ]
     },
     "metadata": {},
     "output_type": "display_data"
    },
    {
     "data": {
      "image/png": "[encoded data removed]",
      "text/plain": [
       "<Figure size 640x480 with 1 Axes>"
      ]
     },
     "metadata": {},
     "output_type": "display_data"
    }
   ],
   "source": [
    "from sklearn.preprocessing import Normalizer, MinMaxScaler, StandardScaler\n",
    "\n",
    "scaler = StandardScaler().fit(X_train_rooms)\n",
    "X_train_rooms_scaled = scaler.transform(X_train_rooms)\n",
    "print(\n",
    "\tX_train_rooms,\n",
    "\tX_train_rooms_scaled,\n",
    "\tsep='\\n\\n'\n",
    ")\n",
    "\n",
    "plt.title('base feature')\n",
    "plt.hist(X_train_rooms[:, 0])\n",
    "plt.figure()\n",
    "plt.title('scaled feature with StandardScaler')\n",
    "plt.hist(X_train_rooms_scaled[:, 0])\n",
    "plt.show()\n"
   ]
  },
  {
   "cell_type": "markdown",
   "metadata": {},
   "source": [
    "#### 2. Normalizer\n",
    "\n",
    "puts all the values between 0 and 1."
   ]
  },
  {
   "cell_type": "code",
   "execution_count": 68,
   "metadata": {},
   "outputs": [
    {
     "name": "stdout",
     "output_type": "stream",
     "text": [
      "[[ 524.   93.   93.]\n",
      " [2498.  472.  487.]\n",
      " [1412.  350.  332.]\n",
      " ...\n",
      " [2352.  556.  481.]\n",
      " [1659.  466.  447.]\n",
      " [2987.  578.  585.]]\n",
      "\n",
      "[[0.96991479 0.17214137 0.17214137]\n",
      " [0.96506469 0.18235009 0.18814512]\n",
      " [0.94629483 0.23456317 0.22249992]\n",
      " ...\n",
      " [0.9544586  0.22562882 0.19519328]\n",
      " [0.93189807 0.26176281 0.25109008]\n",
      " [0.96412653 0.18656349 0.18882291]]\n"
     ]
    },
    {
     "data": {
      "image/png": "[encoded data removed]",
      "text/plain": [
       "<Figure size 640x480 with 1 Axes>"
      ]
     },
     "metadata": {},
     "output_type": "display_data"
    },
    {
     "data": {
      "image/png": "[encoded data removed]",
      "text/plain": [
       "<Figure size 640x480 with 1 Axes>"
      ]
     },
     "metadata": {},
     "output_type": "display_data"
    }
   ],
   "source": [
    "normalizer = Normalizer().fit(X_train_rooms)\n",
    "\n",
    "X_train_rooms_normalized = normalizer.transform(X_train_rooms)\n",
    "print(\n",
    "\tX_train_rooms,\n",
    "\tX_train_rooms_normalized,\n",
    "\tsep='\\n\\n'\n",
    ")\n",
    "\n",
    "plt.title('base feature')\n",
    "plt.hist(X_train_rooms[:, 0])\n",
    "plt.figure()\n",
    "plt.title('scaled feature with Normalizer')\n",
    "plt.hist(X_train_rooms_normalized[:, 0])\n",
    "plt.show()\n"
   ]
  },
  {
   "cell_type": "code",
   "execution_count": null,
   "metadata": {},
   "outputs": [],
   "source": []
  }
 ],
 "metadata": {
  "kernelspec": {
   "display_name": "venv",
   "language": "python",
   "name": "python3"
  },
  "language_info": {
   "codemirror_mode": {
    "name": "ipython",
    "version": 3
   },
   "file_extension": ".py",
   "mimetype": "text/x-python",
   "name": "python",
   "nbconvert_exporter": "python",
   "pygments_lexer": "ipython3",
   "version": "3.11.2"
  }
 },
 "nbformat": 4,
 "nbformat_minor": 2
}
